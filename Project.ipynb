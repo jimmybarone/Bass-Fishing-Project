{
 "cells": [
  {
   "attachments": {},
   "cell_type": "markdown",
   "metadata": {},
   "source": [
    "# Bass Fishing Project\n",
    "### Jimmy Barone, CPSC222, Fall 2022"
   ]
  },
  {
   "attachments": {},
   "cell_type": "markdown",
   "metadata": {},
   "source": [
    "## Introduction\n",
    "\n",
    "* My project is on my bass fishing data that I have collected throughout my fishing outings from this past year, as well as weather data from the MeteoStat API that we used earlier in the semester during DA4. I chose to do the project on this dataset because bass fishing is something that I care about greatly and put a ton of my time into. I figure that if I can statistically analyze my fishing data using python, I should be a little bit closer to some of my goals in fishing like winning tournaments and catching giant bass. Additionally, I think that analyzing my outings not only keeps my mind on fishing during the off season, but can also help to make me a much more efficient angler on and off the water. I hope to be able to better pick which days I choose to go fishing to maximize my chance of catching a big one, as well as to better understand what variables really matter when I am out on the water, and which ones I do not need to pay as much attention to.\n",
    "* Both data tables are in the .CSV format.\n",
    "* The datasets are my own bass fishing dataset that I have collected throughout the year after each fishing outing, as well as weather data from the MeteoStat API. The bass fishing dataset has 56* instances and the MeteoStat dataset has 365 instances.\n",
    "* In the MeteoStat data table there are 8 attributes.\n",
    "    date: Date of the other data in the row.\n",
    "    tavg: Average temperature of the day.\n",
    "    tmin: Minimum temperature during the day.\n",
    "    tmax: Maximum temperature during the day.\n",
    "    prcp: Precipitation during the day in decimal inches.\n",
    "    wdir: Wind direction during the day in degrees.\n",
    "    wspd: Wind speed during the day in miles per hour.\n",
    "    pres: Pressure during the day in mmHg\n",
    "* In the Bass Fishing data table there are 15 attributes\n",
    "    Date: Date of the outing.\n",
    "    Lake: Name of the lake I went to.\n",
    "    Lake Type: Self explanatory, could be Natural, Highland/Lowland Reservior, etc.\n",
    "    Water Temp: Average water temperature on my sonar throughout the day (estimate) in fahrenheit.\n",
    "    Water Temp Low: Lowest water temperature I saw on my sonar during the day in fahrenheit.\n",
    "    Water Temp High: Highest water temperature I saw on my sonar during the day in fahrenheit.\n",
    "    Visibility: Water visibility in feet, using a bright bait as a Secchi disk.\n",
    "    5 Fish Bag: The combined weight of the largest five bass I caught that day in decimal pounds.\n",
    "    Fish Caught: The number of bass I caught that day.\n",
    "    Fish Caught AM: The number of bass I caught that day during AM hours.\n",
    "    Fish Caught PM: The number of bass I caught that day during PM hours.\n",
    "    Fish over 3.5lbs: The number of bass I caught that day during weighing over 3.5lbs.\n",
    "    Hours Fished: The number of hours I fished that day (rounded).\n",
    "    AM Hours: The number of AM hours I fished that day (rounded).\n",
    "    PM Hours:The number of PM hours I fished that day (rounded).\n",
    "* I am trying predict a few different things. I would like to predict which days I am going to catch the most fish, as well as which days I am going to catch a big fish. I would also like to know which lake I have the highest average 5 fish bag for, as well as the highest average fish caught per hour. Finally, I would like to know which lake I caught the least fish per hour at and the least fish over 3.5lbs.\n",
    "* The potential impact of having this knowledge would be that I could better choose which days I should really try to get out and fish and which ones I should stay home for. Additionally, this knowledge will be broken down by if I am looking to catch numbers of fish, or big fish.\n",
    "* I am the main person interested in the results, but also all of my fishing friends are very interested to know the results as I rarely fish alone and the data can often be applied to them as well as myself.\n",
    "\n"
   ]
  }
 ],
 "metadata": {
  "kernelspec": {
   "display_name": "Python 3.9.12 ('base')",
   "language": "python",
   "name": "python3"
  },
  "language_info": {
   "name": "python",
   "version": "3.9.12"
  },
  "orig_nbformat": 4,
  "vscode": {
   "interpreter": {
    "hash": "d77d63579a4095da9087b1c92e954fe3931a05830479cae4740bcff4db96b095"
   }
  }
 },
 "nbformat": 4,
 "nbformat_minor": 2
}
